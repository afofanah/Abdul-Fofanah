{
 "cells": [
  {
   "cell_type": "markdown",
   "metadata": {},
   "source": [
    "# Brif understanding the structure of dataset \n",
    "Decision trees work with simple \"if\" clauses dichotomically chained together, splitting the data flow recursively on those \"if\"s until they reach a leaf where we can categorize the data. Such data inspection could be used to reverse engineer the behavior of any function.\n",
    "\n"
   ]
  },
  {
   "cell_type": "code",
   "execution_count": 15,
   "metadata": {},
   "outputs": [
    {
     "name": "stdout",
     "output_type": "stream",
     "text": [
      "Requirement already satisfied: graphviz in c:\\users\\abdul joseph fofanah\\anaconda3\\lib\\site-packages (0.10.1)\n"
     ]
    }
   ],
   "source": [
    "!pip install graphviz"
   ]
  },
  {
   "cell_type": "markdown",
   "metadata": {},
   "source": [
    "# About the Car Evaluation Data Set\n",
    "For more information: http://archive.ics.uci.edu/ml/datasets/Car+Evaluation\n",
    "\n",
    "Overview The Car Evaluation Database was derived from a simple hierarchical decision model originally developed for the demonstration of DEX, M. Bohanec, V. Rajkovic: Expert system for decision making. Sistemica 1(1), pp. 145-157, 1990.). The model evaluates cars according to the following concept structure:\n",
    "# Car accptability:\n",
    "    - PRICE overall price:\n",
    "        - **buying** buying price,\n",
    "      - **maint** price of the maintenance,\n",
    "    - TECH technical characteristics:,\n",
    "       - COMFORT comfort:,\n",
    "          - **doors** number of doors,\n",
    "          - **persons** capacity in terms of persons to carry,\n",
    "        - **lug_boot** the size of luggage boot,\n",
    " - **safety** estimated safety of the car,\n",
    "The car dataset have  six input attributes: buying, maint, doors, persons, lug_boot, safety.\n",
    "\n"
   ]
  },
  {
   "cell_type": "code",
   "execution_count": 16,
   "metadata": {},
   "outputs": [
    {
     "name": "stdout",
     "output_type": "stream",
     "text": [
      "Requirement already satisfied: pydot in c:\\users\\abdul joseph fofanah\\anaconda3\\lib\\site-packages (1.4.1)\n",
      "Requirement already satisfied: pyparsing>=2.1.4 in c:\\users\\abdul joseph fofanah\\anaconda3\\lib\\site-packages (from pydot) (2.3.0)\n"
     ]
    }
   ],
   "source": [
    "!pip install pydot"
   ]
  },
  {
   "cell_type": "markdown",
   "metadata": {},
   "source": [
    "# Our step is , we load the car evaluation data set in Python and then train decision trees with using the Scikit-Learn package module¶"
   ]
  },
  {
   "cell_type": "code",
   "execution_count": 17,
   "metadata": {},
   "outputs": [],
   "source": [
    "import numpy as np\n",
    "import pandas as pd\n",
    "import matplotlib.pyplot as plt\n",
    "from sklearn.preprocessing import LabelEncoder, OneHotEncoder\n",
    "from sklearn import tree\n",
    "import pydot\n",
    "\n",
    "from io import StringIO\n",
    "import os"
   ]
  },
  {
   "cell_type": "markdown",
   "metadata": {},
   "source": [
    "# Next we define the features of the datasets and preprocess the car evaluation data set\n",
    "We'll preprocess the attributes into redundant features, such as using an integer index (linear) to represent a value for an attribute, as well as also using a one-hot encoding for each attribute's possible values as new features. Despite the fact that this is redundant, this will help to make the tree smaller since it has more choice on how to split data on each branch."
   ]
  },
  {
   "cell_type": "code",
   "execution_count": 2,
   "metadata": {},
   "outputs": [
    {
     "name": "stdout",
     "output_type": "stream",
     "text": [
      "Data set's shape,\n",
      "X.shape, integer_y.shape, len(feature_names), len(class_names):\n",
      "(1728, 27) (1728,) 27 4\n"
     ]
    },
    {
     "name": "stderr",
     "output_type": "stream",
     "text": [
      "C:\\Users\\Abdul Joseph Fofanah\\Anaconda3\\lib\\site-packages\\sklearn\\preprocessing\\_encoders.py:368: FutureWarning: The handling of integer data will change in version 0.22. Currently, the categories are determined based on the range [0, max(values)], while in the future they will be determined based on the unique values.\n",
      "If you want the future behaviour and silence this warning, you can specify \"categories='auto'\".\n",
      "In case you used a LabelEncoder before this OneHotEncoder to convert the categories to integers, then you can now use the OneHotEncoder directly.\n",
      "  warnings.warn(msg, FutureWarning)\n"
     ]
    }
   ],
   "source": [
    "# The integer values for features will take\n",
    "# a range from 0 to n-1 in the lists of possible values:\n",
    "input_labels = [\n",
    "    [\"buying\", [\"vhigh\", \"high\", \"med\", \"low\"]],\n",
    "    [\"maint\", [\"vhigh\", \"high\", \"med\", \"low\"]],\n",
    "    [\"doors\", [\"2\", \"3\", \"4\", \"5more\"]],  # Here indexes are not real values\n",
    "    [\"persons\", [\"2\", \"4\", \"more\"]],\n",
    "    [\"lug_boot\", [\"small\", \"med\", \"big\"]],\n",
    "    [\"safety\", [\"low\", \"med\", \"high\"]],\n",
    "]\n",
    "\n",
    "class_names = [\"unacc\", \"acc\", \"good\", \"vgood\"]\n",
    "\n",
    "# Load data set\n",
    "data = np.genfromtxt(os.path.join( 'car.data'), delimiter=',', dtype=\"U\")\n",
    "data_inputs = data[:, :-1]\n",
    "data_outputs = data[:, -1]\n",
    "\n",
    "def str_data_to_one_hot(data, input_labels):\n",
    "    \"\"\"Convert each feature's string to a flattened one-hot array. \"\"\"\n",
    "    X_int = LabelEncoder().fit_transform(data.ravel()).reshape(*data.shape)\n",
    "    X_bin = OneHotEncoder().fit_transform(X_int).toarray()\n",
    "    \n",
    "    feature_names = []\n",
    "    for a in input_labels:\n",
    "        key = a[0]\n",
    "        for b in a[1]:\n",
    "            value = b\n",
    "            feature_names.append(\"{}_is_{}\".format(key, value))\n",
    "\n",
    "    return X_bin, feature_names\n",
    "\n",
    "def str_data_to_linear(data, input_labels):\n",
    "    \"\"\"Convert each feature's string to an integer index\"\"\"\n",
    "    X_lin = np.array([[\n",
    "        input_labels[a][1].index(j) for a, j in enumerate(i)\n",
    "    ] for i in data])\n",
    "    \n",
    "    # Integer feature indexes will range\n",
    "    # from 0 to n-1 from indexes in the label list:\n",
    "    feature_names = [i[0] + \"_index\" for i in input_labels]\n",
    "    \n",
    "    return X_lin, feature_names\n",
    "\n",
    "# Take both one-hot and linear versions of input features: \n",
    "X_one_hot, feature_names_one_hot = str_data_to_one_hot(data_inputs, input_labels)\n",
    "X_linear_int, feature_names_linear_int = str_data_to_linear(data_inputs, input_labels)\n",
    "\n",
    "# Put that together:\n",
    "X = np.concatenate([X_one_hot, X_linear_int], axis=-1)\n",
    "feature_names = feature_names_one_hot + feature_names_linear_int\n",
    "\n",
    "# Outputs use indexes, this is not one-hot:\n",
    "integer_y = np.array([class_names.index(i) for i in data_outputs])\n",
    "\n",
    "print(\"Data set's shape,\")\n",
    "print(\"X.shape, integer_y.shape, len(feature_names), len(class_names):\")\n",
    "print(X.shape, integer_y.shape, len(feature_names), len(class_names))"
   ]
  },
  {
   "cell_type": "markdown",
   "metadata": {},
   "source": [
    "# After which, we define the features and preprocess the car evaluation data set\n",
    "We'll preprocess the attributes into redundant features, such as using an integer index (linear) to represent a value for an attribute, as well as also using a one-hot encoding for each attribute's possible values as new features. Despite the fact that this is redundant, this will help to make the tree smaller since it has more choice on how to split data on each branch."
   ]
  },
  {
   "cell_type": "code",
   "execution_count": 3,
   "metadata": {},
   "outputs": [
    {
     "name": "stdout",
     "output_type": "stream",
     "text": [
      "The shape of the dataset,\n",
      "X.shape, integer_y.shape, len(feature_names), len(class_names):\n",
      "(1728, 27) (1728,) 27 4\n"
     ]
    },
    {
     "name": "stderr",
     "output_type": "stream",
     "text": [
      "C:\\Users\\Abdul Joseph Fofanah\\Anaconda3\\lib\\site-packages\\sklearn\\preprocessing\\_encoders.py:368: FutureWarning: The handling of integer data will change in version 0.22. Currently, the categories are determined based on the range [0, max(values)], while in the future they will be determined based on the unique values.\n",
      "If you want the future behaviour and silence this warning, you can specify \"categories='auto'\".\n",
      "In case you used a LabelEncoder before this OneHotEncoder to convert the categories to integers, then you can now use the OneHotEncoder directly.\n",
      "  warnings.warn(msg, FutureWarning)\n"
     ]
    }
   ],
   "source": [
    "# The integer values for features will take\n",
    "# a range from 0 to n-1 in the lists of possible values:\n",
    "input_labels = [\n",
    "    [\"buying\", [\"vhigh\", \"high\", \"med\", \"low\"]],\n",
    "    [\"maint\", [\"vhigh\", \"high\", \"med\", \"low\"]],\n",
    "    [\"doors\", [\"2\", \"3\", \"4\", \"5more\"]],  # Here indexes are not real values\n",
    "    [\"persons\", [\"2\", \"4\", \"more\"]],\n",
    "    [\"lug_boot\", [\"small\", \"med\", \"big\"]],\n",
    "    [\"safety\", [\"low\", \"med\", \"high\"]],\n",
    "]\n",
    "\n",
    "class_names = [\"unacc\", \"acc\", \"good\", \"vgood\"]\n",
    "\n",
    "# Load data set\n",
    "data = np.genfromtxt(os.path.join( 'car.data'), delimiter=',', dtype=\"U\")\n",
    "data_inputs = data[:, :-1]\n",
    "data_outputs = data[:, -1]\n",
    "\n",
    "def str_data_to_one_hot(data, input_labels):\n",
    "    \"\"\"Convert each feature's string to a flattened one-hot array. \"\"\"\n",
    "    X_int = LabelEncoder().fit_transform(data.ravel()).reshape(*data.shape)\n",
    "    X_bin = OneHotEncoder().fit_transform(X_int).toarray()\n",
    "    \n",
    "    feature_names = []\n",
    "    for a in input_labels:\n",
    "        key = a[0]\n",
    "        for b in a[1]:\n",
    "            value = b\n",
    "            feature_names.append(\"{}_is_{}\".format(key, value))\n",
    "\n",
    "    return X_bin, feature_names\n",
    "\n",
    "def str_data_to_linear(data, input_labels):\n",
    "    \"\"\"Convert each feature's string to an integer index\"\"\"\n",
    "    X_lin = np.array([[\n",
    "        input_labels[a][1].index(j) for a, j in enumerate(i)\n",
    "    ] for i in data])\n",
    "    \n",
    "    # Integer feature indexes will range\n",
    "    # from 0 to n-1 from indexes in the label list:\n",
    "    feature_names = [i[0] + \"_index\" for i in input_labels]\n",
    "    \n",
    "    return X_lin, feature_names\n",
    "\n",
    "# Take both one-hot and linear versions of input features: \n",
    "X_one_hot, feature_names_one_hot = str_data_to_one_hot(data_inputs, input_labels)\n",
    "X_linear_int, feature_names_linear_int = str_data_to_linear(data_inputs, input_labels)\n",
    "\n",
    "# Put that together:\n",
    "X = np.concatenate([X_one_hot, X_linear_int], axis=-1)\n",
    "feature_names = feature_names_one_hot + feature_names_linear_int\n",
    "\n",
    "# Outputs use indexes, this is not one-hot:\n",
    "integer_y = np.array([class_names.index(i) for i in data_outputs])\n",
    "\n",
    "print(\"The shape of the dataset,\")\n",
    "print(\"X.shape, integer_y.shape, len(feature_names), len(class_names):\")\n",
    "print(X.shape, integer_y.shape, len(feature_names), len(class_names))"
   ]
  },
  {
   "cell_type": "markdown",
   "metadata": {},
   "source": [
    "# Now is time to train a simple decision tree based on classification to fit the data set:\n",
    "First, let's define some hyperparameters, such as the depth of the tree."
   ]
  },
  {
   "cell_type": "code",
   "execution_count": 4,
   "metadata": {},
   "outputs": [
    {
     "name": "stdout",
     "output_type": "stream",
     "text": [
      "Decision tree trained!\n",
      "Errors: 6.539351851851848 %\n",
      "Accuracy: 93.46064814814815 %\n"
     ]
    }
   ],
   "source": [
    "max_depth = 6\n",
    "clf = tree.DecisionTreeClassifier(max_depth=max_depth)\n",
    "clf = clf.fit(X, integer_y)\n",
    "\n",
    "print(\"Decision tree trained!\")\n",
    "accuracy = clf.score(X, integer_y)\n",
    "print(\"Errors:\", 100 - accuracy * 100, \"%\")\n",
    "print(\"Accuracy:\", accuracy * 100, \"%\")"
   ]
  },
  {
   "cell_type": "markdown",
   "metadata": {},
   "source": [
    "#  We then plot the tree and save it"
   ]
  },
  {
   "cell_type": "code",
   "execution_count": 14,
   "metadata": {},
   "outputs": [
    {
     "name": "stdout",
     "output_type": "stream",
     "text": [
      "\"dot\" with args ['-Tpng', 'C:\\\\Users\\\\ABDULJ~1\\\\AppData\\\\Local\\\\Temp\\\\tmps06eysz7'] returned code: 1\n",
      "\n",
      "stdout, stderr:\n",
      " b''\n",
      "b\"'C:\\\\Users\\\\Abdul' is not recognized as an internal or external command,\\r\\noperable program or batch file.\\r\\n\"\n",
      "\n"
     ]
    },
    {
     "ename": "AssertionError",
     "evalue": "1",
     "output_type": "error",
     "traceback": [
      "\u001b[1;31m---------------------------------------------------------------------------\u001b[0m",
      "\u001b[1;31mAssertionError\u001b[0m                            Traceback (most recent call last)",
      "\u001b[1;32m<ipython-input-14-ca79d0b9043b>\u001b[0m in \u001b[0;36m<module>\u001b[1;34m\u001b[0m\n\u001b[0;32m     18\u001b[0m \u001b[1;33m\u001b[0m\u001b[0m\n\u001b[0;32m     19\u001b[0m \u001b[1;31m# Plot our simple tree:\u001b[0m\u001b[1;33m\u001b[0m\u001b[1;33m\u001b[0m\u001b[1;33m\u001b[0m\u001b[0m\n\u001b[1;32m---> 20\u001b[1;33m \u001b[0mplot_first_tree\u001b[0m\u001b[1;33m(\u001b[0m\u001b[0mclf\u001b[0m\u001b[1;33m,\u001b[0m \u001b[0mclass_names\u001b[0m\u001b[1;33m,\u001b[0m \u001b[0mtree_name\u001b[0m\u001b[1;33m=\u001b[0m\u001b[1;34m\"Our_tree\"\u001b[0m\u001b[1;33m)\u001b[0m\u001b[1;33m\u001b[0m\u001b[1;33m\u001b[0m\u001b[0m\n\u001b[0m",
      "\u001b[1;32m<ipython-input-14-ca79d0b9043b>\u001b[0m in \u001b[0;36mplot_first_tree\u001b[1;34m(clf, class_names, tree_name)\u001b[0m\n\u001b[0;32m     15\u001b[0m         \u001b[0mfilled\u001b[0m\u001b[1;33m=\u001b[0m\u001b[1;32mTrue\u001b[0m\u001b[1;33m,\u001b[0m \u001b[0mrotate\u001b[0m\u001b[1;33m=\u001b[0m\u001b[1;32mTrue\u001b[0m\u001b[1;33m\u001b[0m\u001b[1;33m\u001b[0m\u001b[0m\n\u001b[0;32m     16\u001b[0m     )\n\u001b[1;32m---> 17\u001b[1;33m     \u001b[0mpydot\u001b[0m\u001b[1;33m.\u001b[0m\u001b[0mgraph_from_dot_data\u001b[0m\u001b[1;33m(\u001b[0m\u001b[0mdotfile\u001b[0m\u001b[1;33m.\u001b[0m\u001b[0mgetvalue\u001b[0m\u001b[1;33m(\u001b[0m\u001b[1;33m)\u001b[0m\u001b[1;33m)\u001b[0m\u001b[1;33m[\u001b[0m\u001b[1;36m0\u001b[0m\u001b[1;33m]\u001b[0m\u001b[1;33m.\u001b[0m\u001b[0mwrite_png\u001b[0m\u001b[1;33m(\u001b[0m\u001b[1;34m\"{}.png\"\u001b[0m\u001b[1;33m.\u001b[0m\u001b[0mformat\u001b[0m\u001b[1;33m(\u001b[0m\u001b[0mgraph_save_path\u001b[0m\u001b[1;33m)\u001b[0m\u001b[1;33m)\u001b[0m\u001b[1;33m\u001b[0m\u001b[1;33m\u001b[0m\u001b[0m\n\u001b[0m\u001b[0;32m     18\u001b[0m \u001b[1;33m\u001b[0m\u001b[0m\n\u001b[0;32m     19\u001b[0m \u001b[1;31m# Plot our simple tree:\u001b[0m\u001b[1;33m\u001b[0m\u001b[1;33m\u001b[0m\u001b[1;33m\u001b[0m\u001b[0m\n",
      "\u001b[1;32m~\\Anaconda3\\lib\\site-packages\\pydot.py\u001b[0m in \u001b[0;36mnew_method\u001b[1;34m(path, f, prog, encoding)\u001b[0m\n\u001b[0;32m   1732\u001b[0m                 self.write(\n\u001b[0;32m   1733\u001b[0m                     \u001b[0mpath\u001b[0m\u001b[1;33m,\u001b[0m \u001b[0mformat\u001b[0m\u001b[1;33m=\u001b[0m\u001b[0mf\u001b[0m\u001b[1;33m,\u001b[0m \u001b[0mprog\u001b[0m\u001b[1;33m=\u001b[0m\u001b[0mprog\u001b[0m\u001b[1;33m,\u001b[0m\u001b[1;33m\u001b[0m\u001b[1;33m\u001b[0m\u001b[0m\n\u001b[1;32m-> 1734\u001b[1;33m                     encoding=encoding)\n\u001b[0m\u001b[0;32m   1735\u001b[0m             \u001b[0mname\u001b[0m \u001b[1;33m=\u001b[0m \u001b[1;34m'write_{fmt}'\u001b[0m\u001b[1;33m.\u001b[0m\u001b[0mformat\u001b[0m\u001b[1;33m(\u001b[0m\u001b[0mfmt\u001b[0m\u001b[1;33m=\u001b[0m\u001b[0mfrmt\u001b[0m\u001b[1;33m)\u001b[0m\u001b[1;33m\u001b[0m\u001b[1;33m\u001b[0m\u001b[0m\n\u001b[0;32m   1736\u001b[0m             \u001b[0mself\u001b[0m\u001b[1;33m.\u001b[0m\u001b[0m__setattr__\u001b[0m\u001b[1;33m(\u001b[0m\u001b[0mname\u001b[0m\u001b[1;33m,\u001b[0m \u001b[0mnew_method\u001b[0m\u001b[1;33m)\u001b[0m\u001b[1;33m\u001b[0m\u001b[1;33m\u001b[0m\u001b[0m\n",
      "\u001b[1;32m~\\Anaconda3\\lib\\site-packages\\pydot.py\u001b[0m in \u001b[0;36mwrite\u001b[1;34m(self, path, prog, format, encoding)\u001b[0m\n\u001b[0;32m   1815\u001b[0m                 \u001b[0mf\u001b[0m\u001b[1;33m.\u001b[0m\u001b[0mwrite\u001b[0m\u001b[1;33m(\u001b[0m\u001b[0ms\u001b[0m\u001b[1;33m)\u001b[0m\u001b[1;33m\u001b[0m\u001b[1;33m\u001b[0m\u001b[0m\n\u001b[0;32m   1816\u001b[0m         \u001b[1;32melse\u001b[0m\u001b[1;33m:\u001b[0m\u001b[1;33m\u001b[0m\u001b[1;33m\u001b[0m\u001b[0m\n\u001b[1;32m-> 1817\u001b[1;33m             \u001b[0ms\u001b[0m \u001b[1;33m=\u001b[0m \u001b[0mself\u001b[0m\u001b[1;33m.\u001b[0m\u001b[0mcreate\u001b[0m\u001b[1;33m(\u001b[0m\u001b[0mprog\u001b[0m\u001b[1;33m,\u001b[0m \u001b[0mformat\u001b[0m\u001b[1;33m,\u001b[0m \u001b[0mencoding\u001b[0m\u001b[1;33m=\u001b[0m\u001b[0mencoding\u001b[0m\u001b[1;33m)\u001b[0m\u001b[1;33m\u001b[0m\u001b[1;33m\u001b[0m\u001b[0m\n\u001b[0m\u001b[0;32m   1818\u001b[0m             \u001b[1;32mwith\u001b[0m \u001b[0mio\u001b[0m\u001b[1;33m.\u001b[0m\u001b[0mopen\u001b[0m\u001b[1;33m(\u001b[0m\u001b[0mpath\u001b[0m\u001b[1;33m,\u001b[0m \u001b[0mmode\u001b[0m\u001b[1;33m=\u001b[0m\u001b[1;34m'wb'\u001b[0m\u001b[1;33m)\u001b[0m \u001b[1;32mas\u001b[0m \u001b[0mf\u001b[0m\u001b[1;33m:\u001b[0m\u001b[1;33m\u001b[0m\u001b[1;33m\u001b[0m\u001b[0m\n\u001b[0;32m   1819\u001b[0m                 \u001b[0mf\u001b[0m\u001b[1;33m.\u001b[0m\u001b[0mwrite\u001b[0m\u001b[1;33m(\u001b[0m\u001b[0ms\u001b[0m\u001b[1;33m)\u001b[0m\u001b[1;33m\u001b[0m\u001b[1;33m\u001b[0m\u001b[0m\n",
      "\u001b[1;32m~\\Anaconda3\\lib\\site-packages\\pydot.py\u001b[0m in \u001b[0;36mcreate\u001b[1;34m(self, prog, format, encoding)\u001b[0m\n\u001b[0;32m   1943\u001b[0m             \u001b[0mprint\u001b[0m\u001b[1;33m(\u001b[0m\u001b[0mmessage\u001b[0m\u001b[1;33m)\u001b[0m\u001b[1;33m\u001b[0m\u001b[1;33m\u001b[0m\u001b[0m\n\u001b[0;32m   1944\u001b[0m \u001b[1;33m\u001b[0m\u001b[0m\n\u001b[1;32m-> 1945\u001b[1;33m         \u001b[1;32massert\u001b[0m \u001b[0mprocess\u001b[0m\u001b[1;33m.\u001b[0m\u001b[0mreturncode\u001b[0m \u001b[1;33m==\u001b[0m \u001b[1;36m0\u001b[0m\u001b[1;33m,\u001b[0m \u001b[0mprocess\u001b[0m\u001b[1;33m.\u001b[0m\u001b[0mreturncode\u001b[0m\u001b[1;33m\u001b[0m\u001b[1;33m\u001b[0m\u001b[0m\n\u001b[0m\u001b[0;32m   1946\u001b[0m \u001b[1;33m\u001b[0m\u001b[0m\n\u001b[0;32m   1947\u001b[0m         \u001b[1;32mreturn\u001b[0m \u001b[0mstdout_data\u001b[0m\u001b[1;33m\u001b[0m\u001b[1;33m\u001b[0m\u001b[0m\n",
      "\u001b[1;31mAssertionError\u001b[0m: 1"
     ]
    }
   ],
   "source": [
    "def plot_first_tree(clf, class_names, tree_name):\n",
    "    \"\"\"\n",
    "    Plot and save our scikit-learn tree.\n",
    "    \"\"\"\n",
    "    graph_save_path = os.path.join(\n",
    "        \"exported_sklearn_trees\", \n",
    "        \"{}\".format(tree_name)\n",
    "    )\n",
    "\n",
    "    tree.export_graphviz(clf, out_file=\"{}.dot\".format(graph_save_path))\n",
    "    dotfile = StringIO()\n",
    "    tree.export_graphviz(\n",
    "        clf, out_file=dotfile,\n",
    "        feature_names=feature_names, class_names=class_names,\n",
    "        filled=True, rotate=True\n",
    "    )\n",
    "    pydot.graph_from_dot_data(dotfile.getvalue())[0].write_png(\"{}.png\".format(graph_save_path))\n",
    "\n",
    "# Plot our simple tree:\n",
    "plot_first_tree(clf, class_names, tree_name=\"Our_tree\")"
   ]
  },
  {
   "cell_type": "markdown",
   "metadata": {},
   "source": [
    "# We then plot the importance of each input features of the simple tree\n"
   ]
  },
  {
   "cell_type": "code",
   "execution_count": 11,
   "metadata": {},
   "outputs": [
    {
     "data": {
      "image/png": "[encoded data removed]",
      "text/plain": [
       "<Figure size 1152x648 with 1 Axes>"
      ]
     },
     "metadata": {
      "needs_background": "light"
     },
     "output_type": "display_data"
    }
   ],
   "source": [
    "def feature_importance_chart(clf, classifier_name, feature_names):\n",
    "    sorted_feature_importances, sorted_feature_names = (\n",
    "        zip(*sorted(zip(clf.feature_importances_, feature_names)))\n",
    "    )\n",
    "    plt.figure(figsize=(16, 9))\n",
    "    plt.barh(range(len(sorted_feature_importances)), sorted_feature_importances)\n",
    "    plt.yticks(\n",
    "        range(len(sorted_feature_importances)),\n",
    "        [\"{}: {:.3}\".format(a, b) for a, b in zip(sorted_feature_names, sorted_feature_importances)]\n",
    "    )\n",
    "    plt.title(\"The Gini feature importance for the {} \\n\"\n",
    "              \"(total decrease in node impurity, weighted by the \"\n",
    "              \"probability of reaching that node)\".format(classifier_name))\n",
    "    plt.show()\n",
    "\n",
    "feature_importance_chart(clf, \"simple tree\", feature_names)"
   ]
  },
  {
   "cell_type": "markdown",
   "metadata": {},
   "source": [
    "#  Now we generate a fully perfect (complex) tree"
   ]
  },
  {
   "cell_type": "code",
   "execution_count": 12,
   "metadata": {},
   "outputs": [
    {
     "name": "stdout",
     "output_type": "stream",
     "text": [
      "Decision tree trained!\n",
      "Errors: 0.0 %\n",
      "Accuracy: 100.0 %\n"
     ]
    }
   ],
   "source": [
    "max_depth = None  # Full depth\n",
    "clf = tree.DecisionTreeClassifier(max_depth=max_depth)\n",
    "clf = clf.fit(X, integer_y)\n",
    "\n",
    "print(\"Decision tree trained!\")\n",
    "accuracy = clf.score(X, integer_y)\n",
    "print(\"Errors:\", 100 - accuracy * 100, \"%\")\n",
    "print(\"Accuracy:\", accuracy * 100, \"%\")"
   ]
  },
  {
   "cell_type": "code",
   "execution_count": 13,
   "metadata": {},
   "outputs": [
    {
     "ename": "FileNotFoundError",
     "evalue": "[WinError 2] \"dot\" not found in path.",
     "output_type": "error",
     "traceback": [
      "\u001b[1;31m---------------------------------------------------------------------------\u001b[0m",
      "\u001b[1;31mFileNotFoundError\u001b[0m                         Traceback (most recent call last)",
      "\u001b[1;32m~\\Anaconda3\\lib\\site-packages\\pydot.py\u001b[0m in \u001b[0;36mcreate\u001b[1;34m(self, prog, format, encoding)\u001b[0m\n\u001b[0;32m   1914\u001b[0m                 \u001b[0marguments\u001b[0m\u001b[1;33m=\u001b[0m\u001b[0marguments\u001b[0m\u001b[1;33m,\u001b[0m\u001b[1;33m\u001b[0m\u001b[1;33m\u001b[0m\u001b[0m\n\u001b[1;32m-> 1915\u001b[1;33m                 \u001b[0mworking_dir\u001b[0m\u001b[1;33m=\u001b[0m\u001b[0mtmp_dir\u001b[0m\u001b[1;33m,\u001b[0m\u001b[1;33m\u001b[0m\u001b[1;33m\u001b[0m\u001b[0m\n\u001b[0m\u001b[0;32m   1916\u001b[0m             )\n",
      "\u001b[1;32m~\\Anaconda3\\lib\\site-packages\\pydot.py\u001b[0m in \u001b[0;36mcall_graphviz\u001b[1;34m(program, arguments, working_dir, **kwargs)\u001b[0m\n\u001b[0;32m    135\u001b[0m         \u001b[0mstdout\u001b[0m\u001b[1;33m=\u001b[0m\u001b[0msubprocess\u001b[0m\u001b[1;33m.\u001b[0m\u001b[0mPIPE\u001b[0m\u001b[1;33m,\u001b[0m\u001b[1;33m\u001b[0m\u001b[1;33m\u001b[0m\u001b[0m\n\u001b[1;32m--> 136\u001b[1;33m         \u001b[1;33m**\u001b[0m\u001b[0mkwargs\u001b[0m\u001b[1;33m\u001b[0m\u001b[1;33m\u001b[0m\u001b[0m\n\u001b[0m\u001b[0;32m    137\u001b[0m     )\n",
      "\u001b[1;32m~\\Anaconda3\\lib\\subprocess.py\u001b[0m in \u001b[0;36m__init__\u001b[1;34m(self, args, bufsize, executable, stdin, stdout, stderr, preexec_fn, close_fds, shell, cwd, env, universal_newlines, startupinfo, creationflags, restore_signals, start_new_session, pass_fds, encoding, errors, text)\u001b[0m\n\u001b[0;32m    768\u001b[0m                                 \u001b[0merrread\u001b[0m\u001b[1;33m,\u001b[0m \u001b[0merrwrite\u001b[0m\u001b[1;33m,\u001b[0m\u001b[1;33m\u001b[0m\u001b[1;33m\u001b[0m\u001b[0m\n\u001b[1;32m--> 769\u001b[1;33m                                 restore_signals, start_new_session)\n\u001b[0m\u001b[0;32m    770\u001b[0m         \u001b[1;32mexcept\u001b[0m\u001b[1;33m:\u001b[0m\u001b[1;33m\u001b[0m\u001b[1;33m\u001b[0m\u001b[0m\n",
      "\u001b[1;32m~\\Anaconda3\\lib\\subprocess.py\u001b[0m in \u001b[0;36m_execute_child\u001b[1;34m(self, args, executable, preexec_fn, close_fds, pass_fds, cwd, env, startupinfo, creationflags, shell, p2cread, p2cwrite, c2pread, c2pwrite, errread, errwrite, unused_restore_signals, unused_start_new_session)\u001b[0m\n\u001b[0;32m   1171\u001b[0m                                          \u001b[0mos\u001b[0m\u001b[1;33m.\u001b[0m\u001b[0mfspath\u001b[0m\u001b[1;33m(\u001b[0m\u001b[0mcwd\u001b[0m\u001b[1;33m)\u001b[0m \u001b[1;32mif\u001b[0m \u001b[0mcwd\u001b[0m \u001b[1;32mis\u001b[0m \u001b[1;32mnot\u001b[0m \u001b[1;32mNone\u001b[0m \u001b[1;32melse\u001b[0m \u001b[1;32mNone\u001b[0m\u001b[1;33m,\u001b[0m\u001b[1;33m\u001b[0m\u001b[1;33m\u001b[0m\u001b[0m\n\u001b[1;32m-> 1172\u001b[1;33m                                          startupinfo)\n\u001b[0m\u001b[0;32m   1173\u001b[0m             \u001b[1;32mfinally\u001b[0m\u001b[1;33m:\u001b[0m\u001b[1;33m\u001b[0m\u001b[1;33m\u001b[0m\u001b[0m\n",
      "\u001b[1;31mFileNotFoundError\u001b[0m: [WinError 2] The system cannot find the file specified",
      "\nDuring handling of the above exception, another exception occurred:\n",
      "\u001b[1;31mFileNotFoundError\u001b[0m                         Traceback (most recent call last)",
      "\u001b[1;32m<ipython-input-13-0a8befa0aa60>\u001b[0m in \u001b[0;36m<module>\u001b[1;34m\u001b[0m\n\u001b[1;32m----> 1\u001b[1;33m \u001b[0mplot_first_tree\u001b[0m\u001b[1;33m(\u001b[0m\u001b[0mclf\u001b[0m\u001b[1;33m,\u001b[0m \u001b[0mclass_names\u001b[0m\u001b[1;33m,\u001b[0m \u001b[0mtree_name\u001b[0m\u001b[1;33m=\u001b[0m\u001b[1;34m\"our_complex_tree\"\u001b[0m\u001b[1;33m)\u001b[0m\u001b[1;33m\u001b[0m\u001b[1;33m\u001b[0m\u001b[0m\n\u001b[0m",
      "\u001b[1;32m<ipython-input-10-ca79d0b9043b>\u001b[0m in \u001b[0;36mplot_first_tree\u001b[1;34m(clf, class_names, tree_name)\u001b[0m\n\u001b[0;32m     15\u001b[0m         \u001b[0mfilled\u001b[0m\u001b[1;33m=\u001b[0m\u001b[1;32mTrue\u001b[0m\u001b[1;33m,\u001b[0m \u001b[0mrotate\u001b[0m\u001b[1;33m=\u001b[0m\u001b[1;32mTrue\u001b[0m\u001b[1;33m\u001b[0m\u001b[1;33m\u001b[0m\u001b[0m\n\u001b[0;32m     16\u001b[0m     )\n\u001b[1;32m---> 17\u001b[1;33m     \u001b[0mpydot\u001b[0m\u001b[1;33m.\u001b[0m\u001b[0mgraph_from_dot_data\u001b[0m\u001b[1;33m(\u001b[0m\u001b[0mdotfile\u001b[0m\u001b[1;33m.\u001b[0m\u001b[0mgetvalue\u001b[0m\u001b[1;33m(\u001b[0m\u001b[1;33m)\u001b[0m\u001b[1;33m)\u001b[0m\u001b[1;33m[\u001b[0m\u001b[1;36m0\u001b[0m\u001b[1;33m]\u001b[0m\u001b[1;33m.\u001b[0m\u001b[0mwrite_png\u001b[0m\u001b[1;33m(\u001b[0m\u001b[1;34m\"{}.png\"\u001b[0m\u001b[1;33m.\u001b[0m\u001b[0mformat\u001b[0m\u001b[1;33m(\u001b[0m\u001b[0mgraph_save_path\u001b[0m\u001b[1;33m)\u001b[0m\u001b[1;33m)\u001b[0m\u001b[1;33m\u001b[0m\u001b[1;33m\u001b[0m\u001b[0m\n\u001b[0m\u001b[0;32m     18\u001b[0m \u001b[1;33m\u001b[0m\u001b[0m\n\u001b[0;32m     19\u001b[0m \u001b[1;31m# Plot our simple tree:\u001b[0m\u001b[1;33m\u001b[0m\u001b[1;33m\u001b[0m\u001b[1;33m\u001b[0m\u001b[0m\n",
      "\u001b[1;32m~\\Anaconda3\\lib\\site-packages\\pydot.py\u001b[0m in \u001b[0;36mnew_method\u001b[1;34m(path, f, prog, encoding)\u001b[0m\n\u001b[0;32m   1732\u001b[0m                 self.write(\n\u001b[0;32m   1733\u001b[0m                     \u001b[0mpath\u001b[0m\u001b[1;33m,\u001b[0m \u001b[0mformat\u001b[0m\u001b[1;33m=\u001b[0m\u001b[0mf\u001b[0m\u001b[1;33m,\u001b[0m \u001b[0mprog\u001b[0m\u001b[1;33m=\u001b[0m\u001b[0mprog\u001b[0m\u001b[1;33m,\u001b[0m\u001b[1;33m\u001b[0m\u001b[1;33m\u001b[0m\u001b[0m\n\u001b[1;32m-> 1734\u001b[1;33m                     encoding=encoding)\n\u001b[0m\u001b[0;32m   1735\u001b[0m             \u001b[0mname\u001b[0m \u001b[1;33m=\u001b[0m \u001b[1;34m'write_{fmt}'\u001b[0m\u001b[1;33m.\u001b[0m\u001b[0mformat\u001b[0m\u001b[1;33m(\u001b[0m\u001b[0mfmt\u001b[0m\u001b[1;33m=\u001b[0m\u001b[0mfrmt\u001b[0m\u001b[1;33m)\u001b[0m\u001b[1;33m\u001b[0m\u001b[1;33m\u001b[0m\u001b[0m\n\u001b[0;32m   1736\u001b[0m             \u001b[0mself\u001b[0m\u001b[1;33m.\u001b[0m\u001b[0m__setattr__\u001b[0m\u001b[1;33m(\u001b[0m\u001b[0mname\u001b[0m\u001b[1;33m,\u001b[0m \u001b[0mnew_method\u001b[0m\u001b[1;33m)\u001b[0m\u001b[1;33m\u001b[0m\u001b[1;33m\u001b[0m\u001b[0m\n",
      "\u001b[1;32m~\\Anaconda3\\lib\\site-packages\\pydot.py\u001b[0m in \u001b[0;36mwrite\u001b[1;34m(self, path, prog, format, encoding)\u001b[0m\n\u001b[0;32m   1815\u001b[0m                 \u001b[0mf\u001b[0m\u001b[1;33m.\u001b[0m\u001b[0mwrite\u001b[0m\u001b[1;33m(\u001b[0m\u001b[0ms\u001b[0m\u001b[1;33m)\u001b[0m\u001b[1;33m\u001b[0m\u001b[1;33m\u001b[0m\u001b[0m\n\u001b[0;32m   1816\u001b[0m         \u001b[1;32melse\u001b[0m\u001b[1;33m:\u001b[0m\u001b[1;33m\u001b[0m\u001b[1;33m\u001b[0m\u001b[0m\n\u001b[1;32m-> 1817\u001b[1;33m             \u001b[0ms\u001b[0m \u001b[1;33m=\u001b[0m \u001b[0mself\u001b[0m\u001b[1;33m.\u001b[0m\u001b[0mcreate\u001b[0m\u001b[1;33m(\u001b[0m\u001b[0mprog\u001b[0m\u001b[1;33m,\u001b[0m \u001b[0mformat\u001b[0m\u001b[1;33m,\u001b[0m \u001b[0mencoding\u001b[0m\u001b[1;33m=\u001b[0m\u001b[0mencoding\u001b[0m\u001b[1;33m)\u001b[0m\u001b[1;33m\u001b[0m\u001b[1;33m\u001b[0m\u001b[0m\n\u001b[0m\u001b[0;32m   1818\u001b[0m             \u001b[1;32mwith\u001b[0m \u001b[0mio\u001b[0m\u001b[1;33m.\u001b[0m\u001b[0mopen\u001b[0m\u001b[1;33m(\u001b[0m\u001b[0mpath\u001b[0m\u001b[1;33m,\u001b[0m \u001b[0mmode\u001b[0m\u001b[1;33m=\u001b[0m\u001b[1;34m'wb'\u001b[0m\u001b[1;33m)\u001b[0m \u001b[1;32mas\u001b[0m \u001b[0mf\u001b[0m\u001b[1;33m:\u001b[0m\u001b[1;33m\u001b[0m\u001b[1;33m\u001b[0m\u001b[0m\n\u001b[0;32m   1819\u001b[0m                 \u001b[0mf\u001b[0m\u001b[1;33m.\u001b[0m\u001b[0mwrite\u001b[0m\u001b[1;33m(\u001b[0m\u001b[0ms\u001b[0m\u001b[1;33m)\u001b[0m\u001b[1;33m\u001b[0m\u001b[1;33m\u001b[0m\u001b[0m\n",
      "\u001b[1;32m~\\Anaconda3\\lib\\site-packages\\pydot.py\u001b[0m in \u001b[0;36mcreate\u001b[1;34m(self, prog, format, encoding)\u001b[0m\n\u001b[0;32m   1920\u001b[0m                 args[1] = '\"{prog}\" not found in path.'.format(\n\u001b[0;32m   1921\u001b[0m                     prog=prog)\n\u001b[1;32m-> 1922\u001b[1;33m                 \u001b[1;32mraise\u001b[0m \u001b[0mOSError\u001b[0m\u001b[1;33m(\u001b[0m\u001b[1;33m*\u001b[0m\u001b[0margs\u001b[0m\u001b[1;33m)\u001b[0m\u001b[1;33m\u001b[0m\u001b[1;33m\u001b[0m\u001b[0m\n\u001b[0m\u001b[0;32m   1923\u001b[0m             \u001b[1;32melse\u001b[0m\u001b[1;33m:\u001b[0m\u001b[1;33m\u001b[0m\u001b[1;33m\u001b[0m\u001b[0m\n\u001b[0;32m   1924\u001b[0m                 \u001b[1;32mraise\u001b[0m\u001b[1;33m\u001b[0m\u001b[1;33m\u001b[0m\u001b[0m\n",
      "\u001b[1;31mFileNotFoundError\u001b[0m: [WinError 2] \"dot\" not found in path."
     ]
    }
   ],
   "source": [
    "plot_first_tree(clf, class_names, tree_name=\"our_complex_tree\")"
   ]
  },
  {
   "cell_type": "markdown",
   "metadata": {},
   "source": [
    "# Finally, the full feature importance"
   ]
  },
  {
   "cell_type": "code",
   "execution_count": 47,
   "metadata": {},
   "outputs": [
    {
     "data": {
      "image/png": "[encoded data removed]",
      "text/plain": [
       "<Figure size 1152x648 with 1 Axes>"
      ]
     },
     "metadata": {
      "needs_background": "light"
     },
     "output_type": "display_data"
    }
   ],
   "source": [
    "feature_importance_chart(clf, \"complex tree\", feature_names)"
   ]
  },
  {
   "cell_type": "markdown",
   "metadata": {},
   "source": [
    "# Implementing C4.5 and ID3 Decision Tree Algorithms with NumPy by comparing both of the algorithms accuracy"
   ]
  },
  {
   "cell_type": "code",
   "execution_count": 48,
   "metadata": {},
   "outputs": [],
   "source": [
    "data_path = \"car.data\"\n",
    "data = np.genfromtxt(data_path, delimiter=\",\", dtype=str)\n",
    "labels = [\"buying\", \"maint\", \"doors\", \"persons\", \"lug_boot\", \"safety\", \"class\"]"
   ]
  },
  {
   "cell_type": "code",
   "execution_count": 49,
   "metadata": {},
   "outputs": [
    {
     "name": "stdout",
     "output_type": "stream",
     "text": [
      "records: 1728\n",
      "example record: ['vhigh' 'vhigh' '2' '2' 'small' 'low' 'unacc']\n",
      "\n",
      "columns:\n",
      "\n",
      "\tbuying: ['high' 'low' 'med' 'vhigh']\n",
      "\tmaint: ['high' 'low' 'med' 'vhigh']\n",
      "\tdoors: ['2' '3' '4' '5more']\n",
      "\tpersons: ['2' '4' 'more']\n",
      "\tlug_boot: ['big' 'med' 'small']\n",
      "\tsafety: ['high' 'low' 'med']\n",
      "\tclass: ['acc' 'good' 'unacc' 'vgood']\n"
     ]
    }
   ],
   "source": [
    "print(\"records: {}\".format(len(data)))\n",
    "print(\"example record: {}\".format(data[0]))\n",
    "print(\"\\ncolumns:\\n\")\n",
    "columns = []\n",
    "for col in range(len(data[0])):\n",
    "    print(\"\\t\" + labels[col] + \": {}\".format(np.unique(data[:,col])))\n",
    "    columns.append(np.unique(data[:,col]))"
   ]
  },
  {
   "cell_type": "markdown",
   "metadata": {},
   "source": [
    "# The foundation of the decision tree algorithms is a criterion (e.g. entropy, Gini, error) with which we can choose the best attribute to add to the tree. ID3 and C4.5 use information gain (entropy) and normalized information gain, respectively."
   ]
  },
  {
   "cell_type": "code",
   "execution_count": 50,
   "metadata": {},
   "outputs": [],
   "source": [
    "def weighted_entropy(data, col_num):\n",
    "    entropies = []\n",
    "    n_s = []\n",
    "    entropy_of_attribute = entropy(data[:,col_num])\n",
    "    for value in columns[col_num]:\n",
    "        candidate_child = data[data[:,col_num] == value]\n",
    "        n_s.append(len(candidate_child))\n",
    "        entropies.append(entropy(candidate_child[:,6]))\n",
    "    n_s = np.array(n_s)\n",
    "    n_s = n_s / np.sum(n_s)\n",
    "    weighted_entropy = n_s.dot(entropies)\n",
    "    return weighted_entropy, entropy_of_attribute\n",
    "    \n",
    "def entropy(data):\n",
    "    classes = np.unique(data)\n",
    "    n = len(data)\n",
    "    n_s = []\n",
    "    for class_ in classes:\n",
    "        n_s.append(len(data[data==class_]))\n",
    "    n_s = np.array(n_s)\n",
    "    n_s = n_s/n\n",
    "    n_s = n_s * np.log2(n_s)\n",
    "    return max(0,-np.sum(n_s))"
   ]
  },
  {
   "cell_type": "markdown",
   "metadata": {},
   "source": [
    "# Inorder to store our tree, we wll use dictionaries. Each node of the tree is a Python dict."
   ]
  },
  {
   "cell_type": "code",
   "execution_count": 51,
   "metadata": {},
   "outputs": [
    {
     "name": "stdout",
     "output_type": "stream",
     "text": [
      "['acc' 'good' 'unacc' 'vgood']\n"
     ]
    }
   ],
   "source": [
    "def build_node(data, entropy, label, depth, class_=\"TBD\", parent=None):\n",
    "    new_node = dict()\n",
    "    new_node['data'] = data\n",
    "    new_node['entropy'] = entropy\n",
    "    new_node['label'] = label\n",
    "    new_node['depth'] = depth\n",
    "    new_node['class'] = class_\n",
    "    new_node['parent'] = parent\n",
    "    new_node['children'] = []\n",
    "    return new_node\n",
    "\n",
    "root = build_node(data, entropy(data[:,6]), \"all data\", 0)\n",
    "classes = np.unique(root['data'][:,6])\n",
    "print(classes)"
   ]
  },
  {
   "cell_type": "markdown",
   "metadata": {},
   "source": [
    "# The functions that helps us build our tree and classify its leaves. find_best_split acts on a node, and returns the attribute that leads to the best (possibly normalized) information gain."
   ]
  },
  {
   "cell_type": "code",
   "execution_count": 52,
   "metadata": {},
   "outputs": [
    {
     "data": {
      "text/plain": [
       "('safety', 'unacc')"
      ]
     },
     "execution_count": 52,
     "metadata": {},
     "output_type": "execute_result"
    }
   ],
   "source": [
    "def find_best_split(node, c45 = False):\n",
    "    data = node['data']\n",
    "    entropy = node['entropy']\n",
    "    gains = []\n",
    "    for col_num in range(len(columns) - 1):\n",
    "        new_entropy, entropy_of_attribute = weighted_entropy(data, col_num)\n",
    "        if c45:\n",
    "            if entropy_of_attribute==0:\n",
    "                gains.append(0)\n",
    "            else:\n",
    "                gains.append((entropy - new_entropy) / (entropy_of_attribute))\n",
    "        else:\n",
    "            gains.append(entropy - new_entropy)\n",
    "    if np.max(gains) > 10**-3 :\n",
    "        best_attribute = np.argmax(gains)\n",
    "        return best_attribute\n",
    "    else:\n",
    "        return -1\n",
    "    \n",
    "def classify(node_data):\n",
    "    data = node_data[:, 6]\n",
    "    n_s = []\n",
    "    for class_ in classes:\n",
    "        n_s.append(len(data[data==class_]))\n",
    "    return columns[-1][np.argmax(n_s)]\n",
    "    \n",
    "labels[find_best_split(root)], classify(root['data'])"
   ]
  },
  {
   "cell_type": "markdown",
   "metadata": {},
   "source": [
    "# This function is recursive and will construct a decision tree out of a root node that contains your training data."
   ]
  },
  {
   "cell_type": "code",
   "execution_count": 53,
   "metadata": {},
   "outputs": [],
   "source": [
    "def build_tree(node, c45 = False, max_depth = 999, noisy=False):\n",
    "    next_split_attribute = find_best_split(node, c45)\n",
    "    if next_split_attribute == -1 or node['depth'] == max_depth:\n",
    "        node['class'] = classify(node['data'])\n",
    "        #this if statement just handles some printing of the tree (rudimentary visualization)\n",
    "        if noisy:\n",
    "            label = []\n",
    "            label.append(node['label'])\n",
    "            temp_parent = node\n",
    "            while temp_parent['parent']:\n",
    "                temp_parent = temp_parent['parent']\n",
    "                label.append(temp_parent['label'])\n",
    "            depth = node['depth']\n",
    "            for i, layer_label in enumerate(reversed(label)):\n",
    "                for _ in range(i):\n",
    "                    print(\"\\t\", end=\"\")\n",
    "                if i==depth:\n",
    "                    print(\"{} -> class {}\".format(layer_label, node['class']))\n",
    "                else:\n",
    "                    print(\"{}\".format(layer_label))\n",
    "                    \n",
    "    else:\n",
    "        for value in columns[next_split_attribute]:\n",
    "            data = node['data'][ node['data'][:, next_split_attribute] == value ]\n",
    "            entropy_ = entropy(data[:, 6])\n",
    "            new_node = build_node(data, entropy_, \"{} == {}\".format(\n",
    "                                            labels[next_split_attribute],value),\n",
    "                                            node['depth'] + 1, parent=node)\n",
    "            build_tree(new_node, c45, max_depth, noisy)\n",
    "            node['children'].append(new_node)"
   ]
  },
  {
   "cell_type": "markdown",
   "metadata": {},
   "source": [
    "# Lastly, before building the tree, we need a function to check the tree's accuracy."
   ]
  },
  {
   "cell_type": "code",
   "execution_count": 54,
   "metadata": {},
   "outputs": [
    {
     "data": {
      "text/plain": [
       "0.7002314814814815"
      ]
     },
     "execution_count": 54,
     "metadata": {},
     "output_type": "execute_result"
    }
   ],
   "source": [
    "def correct(decision_tree):\n",
    "    if not decision_tree['children']:\n",
    "        return np.sum(classify(decision_tree['data'])==decision_tree['data'][:,6])\n",
    "    else:\n",
    "        n_correct = 0\n",
    "        for child in decision_tree['children']:\n",
    "            n_correct += correct(child)\n",
    "    return n_correct\n",
    "\n",
    "correct(root)/1728"
   ]
  },
  {
   "cell_type": "markdown",
   "metadata": {},
   "source": [
    "# Now we compare the On this dataset, C4.5 and ID3 get similar accuracies..."
   ]
  },
  {
   "cell_type": "code",
   "execution_count": 55,
   "metadata": {},
   "outputs": [
    {
     "name": "stdout",
     "output_type": "stream",
     "text": [
      "Training Accuracy Comparison\n",
      "---------\n",
      " ID3    C4.5\n",
      "0.700   0.700\n",
      "0.700   0.700\n",
      "0.778   0.778\n",
      "0.819   0.824\n",
      "0.899   0.894\n",
      "0.964   0.964\n",
      "1.000   1.000\n"
     ]
    }
   ],
   "source": [
    "print(\"Training Accuracy Comparison\")\n",
    "print(\"---------\")\n",
    "print(\" ID3    C4.5\")\n",
    "for depth in range(7):\n",
    "    root = build_node(data, entropy(data[:,6]), \"all data\", 0)\n",
    "    build_tree(root, max_depth=depth, c45=False)\n",
    "    id3=correct(root)/1728\n",
    "    root = build_node(data, entropy(data[:,6]), \"all data\", 0)\n",
    "    build_tree(root, max_depth=depth, c45=True)\n",
    "    c45=correct(root)/1728\n",
    "    print('{:.3f} '.format(round(id3,3)), ' {:.3f}'.format(round(c45,3)))"
   ]
  },
  {
   "cell_type": "code",
   "execution_count": null,
   "metadata": {},
   "outputs": [],
   "source": []
  }
 ],
 "metadata": {
  "kernelspec": {
   "display_name": "Python 3",
   "language": "python",
   "name": "python3"
  },
  "language_info": {
   "codemirror_mode": {
    "name": "ipython",
    "version": 3
   },
   "file_extension": ".py",
   "mimetype": "text/x-python",
   "name": "python",
   "nbconvert_exporter": "python",
   "pygments_lexer": "ipython3",
   "version": "3.8.8"
  }
 },
 "nbformat": 4,
 "nbformat_minor": 2
}
